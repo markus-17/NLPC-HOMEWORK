{
 "cells": [
  {
   "cell_type": "markdown",
   "id": "higher-addition",
   "metadata": {},
   "source": [
    "## Task 1 - Reading the .txt file"
   ]
  },
  {
   "cell_type": "code",
   "execution_count": 1,
   "id": "corrected-model",
   "metadata": {},
   "outputs": [
    {
     "name": "stdout",
     "output_type": "stream",
     "text": [
      "Chapter 1\n",
      "The Living World\n",
      "\n",
      "Chapter 2\n",
      "Biological Classification\n",
      "\n",
      "Chapter 3\n",
      "Plant Kingdom\n",
      "\n",
      "Chapter 4\n",
      "Animal Kingdom\n",
      "\n",
      " \n",
      "\n",
      "UNIT I\n",
      "\n",
      "DIVERSITY IN THE LIVING WORLD\n",
      "\n",
      "Biology is the science of life forms and living processes. The living world\n",
      "comprises an amazing diversity of living organisms. Early man could\n",
      "easily perceive the difference between inanimate matter and living\n",
      "organisms. Early man deified some of the inanimate matter (wind, sea,\n",
      "fire etc.) and some among the animals and plants. A common feature of\n",
      "all such forms of inanimate and animate objects was the sense of awe\n",
      "or fear that they evoked. The description of living organisms including\n",
      "human beings began much later in human history. Societies which\n",
      "indulged in anthropocentric view of biology could register limited\n",
      "progress in biological knowledge. Systematic and monumental\n",
      "description of life forms brought in, out of necessity, detailed systems\n",
      "of identification, nomenclature and classification. The biggest spin off\n",
      "of such studies was the recognition of the sharing of similarities among\n",
      "living organisms both horizontally and vertically. That all present day\n",
      "living organisms are related to each other and also to all organisms\n",
      "that ever lived on this earth, was a revelation which humbled man and\n",
      "led to cultural movements for conservation of biodiversity. In the\n",
      "following chapters of this unit, you will get a description, including\n",
      "classification, of animals and plants from a taxonomist’s perspective.\n",
      "\n",
      "2019-2020\n"
     ]
    }
   ],
   "source": [
    "file = open('../BIO_CS_DATA/TEST/biology/class_11_biology_chapter_1_0.txt')\n",
    "text = file.read()\n",
    "file.close()\n",
    "print(text)"
   ]
  },
  {
   "cell_type": "code",
   "execution_count": 2,
   "id": "oriental-seeking",
   "metadata": {},
   "outputs": [
    {
     "name": "stdout",
     "output_type": "stream",
     "text": [
      "chapter 1\n",
      "the living world\n",
      "\n",
      "chapter 2\n",
      "biological classification\n",
      "\n",
      "chapter 3\n",
      "plant kingdom\n",
      "\n",
      "chapter 4\n",
      "animal kingdom\n",
      "\n",
      " \n",
      "\n",
      "unit i\n",
      "\n",
      "diversity in the living world\n",
      "\n",
      "biology is the science of life forms and living processes. the living world\n",
      "comprises an amazing diversity of living organisms. early man could\n",
      "easily perceive the difference between inanimate matter and living\n",
      "organisms. early man deified some of the inanimate matter (wind, sea,\n",
      "fire etc.) and some among the animals and plants. a common feature of\n",
      "all such forms of inanimate and animate objects was the sense of awe\n",
      "or fear that they evoked. the description of living organisms including\n",
      "human beings began much later in human history. societies which\n",
      "indulged in anthropocentric view of biology could register limited\n",
      "progress in biological knowledge. systematic and monumental\n",
      "description of life forms brought in, out of necessity, detailed systems\n",
      "of identification, nomenclature and classification. the biggest spin off\n",
      "of such studies was the recognition of the sharing of similarities among\n",
      "living organisms both horizontally and vertically. that all present day\n",
      "living organisms are related to each other and also to all organisms\n",
      "that ever lived on this earth, was a revelation which humbled man and\n",
      "led to cultural movements for conservation of biodiversity. in the\n",
      "following chapters of this unit, you will get a description, including\n",
      "classification, of animals and plants from a taxonomist’s perspective.\n",
      "\n",
      "2019-2020\n"
     ]
    }
   ],
   "source": [
    "text = text.lower()\n",
    "print(text)"
   ]
  },
  {
   "cell_type": "markdown",
   "id": "utility-intro",
   "metadata": {},
   "source": [
    "## Task 2 - Acquiring the file metadata"
   ]
  },
  {
   "cell_type": "code",
   "execution_count": 3,
   "id": "vanilla-vacuum",
   "metadata": {},
   "outputs": [],
   "source": [
    "from nltk.tokenize import sent_tokenize, word_tokenize, casual_tokenize, MWETokenizer\n",
    "\n",
    "sentences = sent_tokenize(text)\n",
    "words = word_tokenize(text)\n",
    "casual_words = casual_tokenize(text)\n",
    "tokenizer = MWETokenizer([\n",
    "    ('the', 'science'), ('the', 'living', 'world'), ('the', 'animals'), \n",
    "    ('the', 'sense'), ('the', 'following'), ('a', 'description')\n",
    "])\n",
    "MWETokenizer_words = tokenizer.tokenize(words)"
   ]
  },
  {
   "cell_type": "code",
   "execution_count": 4,
   "id": "periodic-history",
   "metadata": {},
   "outputs": [
    {
     "name": "stdout",
     "output_type": "stream",
     "text": [
      "Number of tokens acquired with sent_tokenize: 13\n",
      "Number of tokens acquired with word_tokenize: 253\n",
      "Number of tokens acquired with casual_tokenize: 253\n",
      "Number of tokens acquired with MWETokenizer:  242\n"
     ]
    }
   ],
   "source": [
    "print('Number of tokens acquired with sent_tokenize:', len(sentences))\n",
    "print('Number of tokens acquired with word_tokenize:', len(words))\n",
    "print('Number of tokens acquired with casual_tokenize:', len(casual_words))\n",
    "print('Number of tokens acquired with MWETokenizer: ', len(MWETokenizer_words))"
   ]
  },
  {
   "cell_type": "code",
   "execution_count": 5,
   "id": "plain-alcohol",
   "metadata": {},
   "outputs": [
    {
     "name": "stdout",
     "output_type": "stream",
     "text": [
      "Mean number of tokens per sentence (word_tokenize): 19.46153846153846\n",
      "Mean number of tokens per sentence (casual_tokenize): 19.46153846153846\n",
      "Mean number of tokens per sentence (MWETokenizer): 18.615384615384617\n"
     ]
    }
   ],
   "source": [
    "print('Mean number of tokens per sentence (word_tokenize):', len(words) / len(sentences))\n",
    "print('Mean number of tokens per sentence (casual_tokenize):', len(casual_words) / len(sentences))\n",
    "print('Mean number of tokens per sentence (MWETokenizer):', len(MWETokenizer_words) / len(sentences))"
   ]
  },
  {
   "cell_type": "code",
   "execution_count": 6,
   "id": "improved-garage",
   "metadata": {},
   "outputs": [],
   "source": [
    "words_set = set(words)\n",
    "casual_words_set = set(casual_words)\n",
    "MWETokens_set = set(MWETokenizer_words)"
   ]
  },
  {
   "cell_type": "code",
   "execution_count": 7,
   "id": "massive-excess",
   "metadata": {},
   "outputs": [
    {
     "data": {
      "text/plain": [
       "True"
      ]
     },
     "execution_count": 7,
     "metadata": {},
     "output_type": "execute_result"
    }
   ],
   "source": [
    "words_set == casual_words_set"
   ]
  },
  {
   "cell_type": "markdown",
   "id": "isolated-wrong",
   "metadata": {},
   "source": [
    "Okey, so, **word_tokenize** and **casual_tokenize** produce the same result."
   ]
  },
  {
   "cell_type": "markdown",
   "id": "figured-summer",
   "metadata": {},
   "source": [
    "## Task 3 - Comparing the Stemmers"
   ]
  },
  {
   "cell_type": "code",
   "execution_count": 8,
   "id": "inner-baseball",
   "metadata": {},
   "outputs": [
    {
     "data": {
      "text/html": [
       "<div>\n",
       "<style scoped>\n",
       "    .dataframe tbody tr th:only-of-type {\n",
       "        vertical-align: middle;\n",
       "    }\n",
       "\n",
       "    .dataframe tbody tr th {\n",
       "        vertical-align: top;\n",
       "    }\n",
       "\n",
       "    .dataframe thead th {\n",
       "        text-align: right;\n",
       "    }\n",
       "</style>\n",
       "<table border=\"1\" class=\"dataframe\">\n",
       "  <thead>\n",
       "    <tr style=\"text-align: right;\">\n",
       "      <th></th>\n",
       "      <th>token</th>\n",
       "      <th>porter</th>\n",
       "      <th>lancaster</th>\n",
       "      <th>snowball</th>\n",
       "    </tr>\n",
       "  </thead>\n",
       "  <tbody>\n",
       "    <tr>\n",
       "      <th>0</th>\n",
       "      <td>other</td>\n",
       "      <td>other</td>\n",
       "      <td>oth</td>\n",
       "      <td>other</td>\n",
       "    </tr>\n",
       "    <tr>\n",
       "      <th>1</th>\n",
       "      <td>vertically</td>\n",
       "      <td>vertic</td>\n",
       "      <td>vert</td>\n",
       "      <td>vertic</td>\n",
       "    </tr>\n",
       "    <tr>\n",
       "      <th>2</th>\n",
       "      <td>fear</td>\n",
       "      <td>fear</td>\n",
       "      <td>fear</td>\n",
       "      <td>fear</td>\n",
       "    </tr>\n",
       "    <tr>\n",
       "      <th>3</th>\n",
       "      <td>’</td>\n",
       "      <td>’</td>\n",
       "      <td>’</td>\n",
       "      <td>’</td>\n",
       "    </tr>\n",
       "    <tr>\n",
       "      <th>4</th>\n",
       "      <td>an</td>\n",
       "      <td>an</td>\n",
       "      <td>an</td>\n",
       "      <td>an</td>\n",
       "    </tr>\n",
       "  </tbody>\n",
       "</table>\n",
       "</div>"
      ],
      "text/plain": [
       "        token  porter lancaster snowball\n",
       "0       other   other       oth    other\n",
       "1  vertically  vertic      vert   vertic\n",
       "2        fear    fear      fear     fear\n",
       "3           ’       ’         ’        ’\n",
       "4          an      an        an       an"
      ]
     },
     "execution_count": 8,
     "metadata": {},
     "output_type": "execute_result"
    }
   ],
   "source": [
    "import pandas as pd\n",
    "from nltk.stem import PorterStemmer\n",
    "from nltk.stem.lancaster import LancasterStemmer\n",
    "from nltk.stem import SnowballStemmer\n",
    "\n",
    "lancaster_st = LancasterStemmer()\n",
    "snowball_st = SnowballStemmer('english')\n",
    "porter_st = PorterStemmer()\n",
    "\n",
    "df = pd.DataFrame(columns=['token', 'porter', 'lancaster', 'snowball'])\n",
    "for index, token in enumerate(words_set):\n",
    "    df.loc[index] = [token, porter_st.stem(token), lancaster_st.stem(token), snowball_st.stem(token)]\n",
    "\n",
    "df.head()"
   ]
  },
  {
   "cell_type": "markdown",
   "id": "demographic-tourism",
   "metadata": {},
   "source": [
    "## Task 4 - Frequencies of tokens"
   ]
  },
  {
   "cell_type": "code",
   "execution_count": 9,
   "id": "mechanical-thumbnail",
   "metadata": {},
   "outputs": [
    {
     "name": "stdout",
     "output_type": "stream",
     "text": [
      "('of', 17)\n",
      "('the', 13)\n",
      "('.', 12)\n",
      "('and', 11)\n",
      "('living', 9)\n",
      "(',', 9)\n",
      "('in', 6)\n",
      "('organisms', 6)\n",
      "('chapter', 4)\n",
      "('a', 4)\n"
     ]
    }
   ],
   "source": [
    "words_dict = { token : words.count(token) for token in words }\n",
    "sorted_dict = sorted(words_dict.items(), key=lambda x: x[1], reverse=True)\n",
    "for i in range(10):\n",
    "    print(sorted_dict[i])"
   ]
  },
  {
   "cell_type": "code",
   "execution_count": 10,
   "id": "adjacent-understanding",
   "metadata": {},
   "outputs": [
    {
     "data": {
      "text/plain": [
       "Text(0.5, 1.0, 'Frequency of tokens')"
      ]
     },
     "execution_count": 10,
     "metadata": {},
     "output_type": "execute_result"
    },
    {
     "data": {
      "image/png": "[encoded data removed]",
      "text/plain": [
       "<Figure size 1200x800 with 1 Axes>"
      ]
     },
     "metadata": {
      "needs_background": "light"
     },
     "output_type": "display_data"
    }
   ],
   "source": [
    "import matplotlib.pyplot as plt\n",
    "\n",
    "y = [ t[1] for t in sorted_dict ]\n",
    "x = range(len(sorted_dict))\n",
    "\n",
    "plt.figure(dpi=200)\n",
    "plt.scatter(x, y, s=1, marker='o')\n",
    "plt.xticks([])\n",
    "plt.title('Frequency of tokens')"
   ]
  },
  {
   "cell_type": "markdown",
   "id": "chubby-reception",
   "metadata": {},
   "source": [
    "## Task 5 - Part of speech tagging"
   ]
  },
  {
   "cell_type": "code",
   "execution_count": 11,
   "id": "precise-departure",
   "metadata": {},
   "outputs": [
    {
     "data": {
      "text/plain": [
       "{'JJ': ['other',\n",
       "  'anthropocentric',\n",
       "  'taxonomist',\n",
       "  'such',\n",
       "  '2019-2020',\n",
       "  'systematic',\n",
       "  'common',\n",
       "  'monumental',\n",
       "  'animate',\n",
       "  'early',\n",
       "  'human',\n",
       "  'present'],\n",
       " 'RB': ['vertically',\n",
       "  'much',\n",
       "  'later',\n",
       "  'horizontally',\n",
       "  'easily',\n",
       "  'also',\n",
       "  'ever'],\n",
       " 'VBP': ['fear', 'are', 'awe', 'sea', 'spin', 'feature', 'perspective'],\n",
       " 'PDT': ['’'],\n",
       " 'DT': ['an', 'both', 'this', 'all', 'each', 'some', 'the', 'a'],\n",
       " 'VBZ': ['comprises', 'is', 'processes'],\n",
       " 'NNS': ['objects',\n",
       "  'forms',\n",
       "  'systems',\n",
       "  'studies',\n",
       "  'movements',\n",
       "  'societies',\n",
       "  'wind',\n",
       "  'chapters',\n",
       "  'beings',\n",
       "  'organisms',\n",
       "  'plants',\n",
       "  'similarities',\n",
       "  'animals'],\n",
       " 'CC': ['and', 'or'],\n",
       " 'NN': ['matter',\n",
       "  'biology',\n",
       "  'identification',\n",
       "  'nomenclature',\n",
       "  'history',\n",
       "  'plant',\n",
       "  'necessity',\n",
       "  'knowledge',\n",
       "  'unit',\n",
       "  'classification',\n",
       "  'earth',\n",
       "  'science',\n",
       "  'chapter',\n",
       "  'description',\n",
       "  's',\n",
       "  'i',\n",
       "  'man',\n",
       "  'view',\n",
       "  'etc',\n",
       "  'diversity',\n",
       "  'register',\n",
       "  'fire',\n",
       "  'world',\n",
       "  'progress',\n",
       "  'difference',\n",
       "  'recognition',\n",
       "  'animal',\n",
       "  'inanimate',\n",
       "  'biodiversity',\n",
       "  'revelation',\n",
       "  'conservation',\n",
       "  'perceive',\n",
       "  'sense',\n",
       "  'living',\n",
       "  'kingdom',\n",
       "  'life',\n",
       "  'day'],\n",
       " 'VBN': ['detailed', 'lived', 'deified', 'humbled', 'related', 'indulged'],\n",
       " 'JJS': ['biggest'],\n",
       " 'MD': ['will', 'could'],\n",
       " 'VB': ['biological', 'cultural', 'get'],\n",
       " 'RP': ['out', 'off'],\n",
       " 'IN': ['between', 'in', 'among', 'on', 'from', 'for', 'of', 'that'],\n",
       " 'PRP': ['you', 'they'],\n",
       " 'VBD': ['limited', 'led', 'began', 'was', 'brought', 'evoked'],\n",
       " 'VBG': ['including', 'amazing', 'sharing', 'following'],\n",
       " ')': [')'],\n",
       " 'CD': ['4', '2', '3', '1'],\n",
       " ',': [','],\n",
       " '(': ['('],\n",
       " '.': ['.'],\n",
       " 'WDT': ['which'],\n",
       " 'TO': ['to']}"
      ]
     },
     "execution_count": 11,
     "metadata": {},
     "output_type": "execute_result"
    }
   ],
   "source": [
    "from nltk import pos_tag\n",
    "\n",
    "tagged_words = pos_tag(words_set)\n",
    "tagged_words_dict = {}\n",
    "\n",
    "for tupl in tagged_words:\n",
    "    if tupl[1] in tagged_words_dict:\n",
    "        tagged_words_dict[tupl[1]].append(tupl[0])\n",
    "    else:\n",
    "        tagged_words_dict[tupl[1]] = [tupl[0]]\n",
    "        \n",
    "tagged_words_dict"
   ]
  }
 ],
 "metadata": {
  "kernelspec": {
   "display_name": "Python 3",
   "language": "python",
   "name": "python3"
  },
  "language_info": {
   "codemirror_mode": {
    "name": "ipython",
    "version": 3
   },
   "file_extension": ".py",
   "mimetype": "text/x-python",
   "name": "python",
   "nbconvert_exporter": "python",
   "pygments_lexer": "ipython3",
   "version": "3.9.2"
  }
 },
 "nbformat": 4,
 "nbformat_minor": 5
}
